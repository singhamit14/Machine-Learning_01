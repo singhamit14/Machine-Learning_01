{
 "cells": [
  {
   "cell_type": "code",
   "execution_count": null,
   "metadata": {},
   "outputs": [],
   "source": [
    "import pandas as pd\n",
    "nba=pd.read_csv('nba.csv')\n",
    "#Here we are not using squeeze or uscols type attribute and \n",
    "#by looking at the data set it is clear that it contains missing value NaN\n",
    "#we are going to pre process this before actual modelling.\n",
    "nba.head()\n",
    "# nba.tail(10)"
   ]
  },
  {
   "cell_type": "code",
   "execution_count": null,
   "metadata": {},
   "outputs": [],
   "source": [
    "nba.index\n",
    "nba.shape\n",
    "nba.dtypes\n",
    "# # # # # #Below are some attributes which are made for Dataframes only\n",
    "nba.columns\n",
    "nba.axes\n",
    "nba.info\n",
    "nba.info()"
   ]
  },
  {
   "cell_type": "code",
   "execution_count": null,
   "metadata": {},
   "outputs": [],
   "source": [
    "nba.get_dtype_counts()\n"
   ]
  },
  {
   "cell_type": "markdown",
   "metadata": {},
   "source": [
    "# shared method and column access in pandas"
   ]
  },
  {
   "cell_type": "code",
   "execution_count": null,
   "metadata": {},
   "outputs": [],
   "source": [
    "import pandas as pd\n",
    "rev=pd.read_csv('revenue.csv', index_col='Date')\n",
    "rev.head()"
   ]
  },
  {
   "cell_type": "code",
   "execution_count": null,
   "metadata": {},
   "outputs": [],
   "source": [
    "# rev.sum() #Here data is added in terms of column wise\n",
    "# rev.sum(axis=0)\n",
    "rev.sum(axis='index')"
   ]
  },
  {
   "cell_type": "code",
   "execution_count": null,
   "metadata": {},
   "outputs": [],
   "source": [
    "# rev.sum(axis=1)\n",
    "rev.sum(axis='columns')"
   ]
  },
  {
   "cell_type": "code",
   "execution_count": null,
   "metadata": {},
   "outputs": [],
   "source": [
    "nba=pd.read_csv('nba.csv')\n",
    "nba.head()\n",
    "\n",
    "#If i want to extract data column wise\n",
    "# type(nba.Salary) #Its data type is series as it is a single dimension array it works properly when there is no space in column name"
   ]
  },
  {
   "cell_type": "code",
   "execution_count": null,
   "metadata": {},
   "outputs": [],
   "source": [
    "type(nba.Name)"
   ]
  },
  {
   "cell_type": "code",
   "execution_count": null,
   "metadata": {},
   "outputs": [],
   "source": [
    "# nba['Name'] #It is more accurate as it works for those column also which have space in there name\n",
    "nba.Name"
   ]
  },
  {
   "cell_type": "code",
   "execution_count": null,
   "metadata": {},
   "outputs": [],
   "source": [
    "# nba[['Team', 'Name']]\n",
    "select=['Team', 'Name']\n",
    "nba[select]"
   ]
  },
  {
   "cell_type": "markdown",
   "metadata": {},
   "source": [
    "# Add new column to data frames"
   ]
  },
  {
   "cell_type": "code",
   "execution_count": null,
   "metadata": {},
   "outputs": [],
   "source": [
    "import pandas as pd\n",
    "nba=pd.read_csv('nba.csv')\n",
    "nba.head()"
   ]
  },
  {
   "cell_type": "code",
   "execution_count": null,
   "metadata": {},
   "outputs": [],
   "source": [
    "nba['Sports']='Basket Ball' #One method to add column but by this column is added at the last\n",
    "nba.head()"
   ]
  },
  {
   "cell_type": "code",
   "execution_count": null,
   "metadata": {},
   "outputs": [],
   "source": [
    "\n",
    "nba=pd.read_csv('nba.csv')\n",
    "#Insert method : any specific place you may add your column\n",
    "nba.insert(3, column=\"League\", value=\"IPL\")\n",
    "nba.League[[0,1]]=[\"Hello\",\"test\"]\n",
    "nba.head()"
   ]
  },
  {
   "cell_type": "markdown",
   "metadata": {},
   "source": [
    "# BroadCasting operation in pandas"
   ]
  },
  {
   "cell_type": "code",
   "execution_count": null,
   "metadata": {},
   "outputs": [],
   "source": [
    "#Broadcasting : means to perform operation in whole series of a column\n",
    "import pandas as pd\n",
    "nba=pd.read_csv('nba.csv')\n",
    "nba.head()"
   ]
  },
  {
   "cell_type": "code",
   "execution_count": null,
   "metadata": {},
   "outputs": [],
   "source": [
    "nba['Salary'].sub(50000)\n",
    "# nba['Salary']-50000\n",
    "\n",
    "\n",
    "# nba['Age'].add(5)\n",
    "# nba['Age']+5\n",
    "\n",
    "\n",
    "# nba['Weight'].mul(0.453)\n",
    "# nba['Weight']*0.453\n",
    "\n",
    "\n",
    "\n",
    "nba[\"Weight in KG\"]=nba['Weight']*0.453592\n",
    "nba.head()"
   ]
  },
  {
   "cell_type": "markdown",
   "metadata": {},
   "source": [
    "# Drops Rows with Null Values"
   ]
  },
  {
   "cell_type": "code",
   "execution_count": null,
   "metadata": {},
   "outputs": [],
   "source": [
    "import pandas as pd\n",
    "nba=pd.read_csv('nba.csv')\n",
    "nba.head()"
   ]
  },
  {
   "cell_type": "code",
   "execution_count": null,
   "metadata": {},
   "outputs": [],
   "source": [
    "nba.tail()"
   ]
  },
  {
   "cell_type": "code",
   "execution_count": null,
   "metadata": {
    "scrolled": true
   },
   "outputs": [],
   "source": [
    "# nba.dropna()\n",
    "# nba.dropna(how='any', inplace = True)\n",
    "nba.dropna(how='all', inplace=True)\n",
    "nba.tail()"
   ]
  },
  {
   "cell_type": "code",
   "execution_count": null,
   "metadata": {},
   "outputs": [],
   "source": [
    "nba.dropna(axis=1, inplace=True) #It deletes column which consists NaN\n",
    "nba.head()"
   ]
  },
  {
   "cell_type": "code",
   "execution_count": null,
   "metadata": {},
   "outputs": [],
   "source": [
    "nba.dropna(subset=['Salary'])"
   ]
  },
  {
   "cell_type": "markdown",
   "metadata": {},
   "source": [
    "# fillna method for Null Values"
   ]
  },
  {
   "cell_type": "code",
   "execution_count": null,
   "metadata": {},
   "outputs": [],
   "source": [
    "import pandas as pd\n",
    "nba=pd.read_csv('nba.csv')\n",
    "nba.head()"
   ]
  },
  {
   "cell_type": "code",
   "execution_count": null,
   "metadata": {},
   "outputs": [],
   "source": [
    "nba.fillna(0).head()"
   ]
  },
  {
   "cell_type": "code",
   "execution_count": null,
   "metadata": {},
   "outputs": [],
   "source": [
    "nba['Salary']\n",
    "nba['Salary'].fillna(0, inplace=True)\n",
    "nba.head()"
   ]
  },
  {
   "cell_type": "code",
   "execution_count": null,
   "metadata": {},
   "outputs": [],
   "source": [
    "nba['College'].fillna('No College', inplace=True)\n",
    "nba"
   ]
  },
  {
   "cell_type": "markdown",
   "metadata": {},
   "source": [
    "# sort_values() method in Data Frames"
   ]
  },
  {
   "cell_type": "code",
   "execution_count": null,
   "metadata": {},
   "outputs": [],
   "source": [
    "import pandas as pd\n",
    "nba=pd.read_csv('nba.csv')\n",
    "nba.head()"
   ]
  },
  {
   "cell_type": "code",
   "execution_count": null,
   "metadata": {},
   "outputs": [],
   "source": [
    "nba.sort_values('Name', ascending=False).head()"
   ]
  },
  {
   "cell_type": "code",
   "execution_count": null,
   "metadata": {},
   "outputs": [],
   "source": [
    "nba.sort_values('Age')\n",
    "nba.sort_values('Age', ascending=False)"
   ]
  },
  {
   "cell_type": "code",
   "execution_count": null,
   "metadata": {},
   "outputs": [],
   "source": [
    "nba.sort_values('Salary') #NaN values would arrange at the end\n",
    "# nba.sort_values('Salary', na_position='last')\n",
    "nba.sort_values('Salary', na_position='first')"
   ]
  },
  {
   "cell_type": "markdown",
   "metadata": {},
   "source": [
    "# sortvalues() for multi columns in pandas"
   ]
  },
  {
   "cell_type": "code",
   "execution_count": null,
   "metadata": {},
   "outputs": [],
   "source": [
    "import pandas as pd\n",
    "nba=pd.read_csv('nba.csv')\n",
    "nba.head()"
   ]
  },
  {
   "cell_type": "code",
   "execution_count": null,
   "metadata": {},
   "outputs": [],
   "source": [
    "nba.sort_values(['Team', 'Name'])\n",
    "# nba.sort_values(['Team', 'Name'], ascending=[True,False])"
   ]
  },
  {
   "cell_type": "markdown",
   "metadata": {},
   "source": [
    "# rank() method in pandas"
   ]
  },
  {
   "cell_type": "code",
   "execution_count": null,
   "metadata": {},
   "outputs": [],
   "source": [
    "import pandas as pd\n",
    "nba=pd.read_csv('nba.csv').dropna(how='all')\n",
    "nba['Salary']=nba['Salary'].fillna(0).astype('int')\n",
    "nba.head()"
   ]
  },
  {
   "cell_type": "code",
   "execution_count": null,
   "metadata": {},
   "outputs": [],
   "source": [
    "#I want to decide on the basis of salary, that whose salary is highest comes at rank 1 and so on..\n",
    "nba['Salary'].rank()\n",
    "# nba['Salary'][91]\n",
    "nba['Salary'].rank(ascending=False).astype(int)\n",
    "nba['Salary Rank']=nba['Salary'].rank(ascending=False).astype(int)\n",
    "nba.sort_values(by='Salary', ascending=False)\n",
    "# nba.head()"
   ]
  },
  {
   "cell_type": "markdown",
   "metadata": {},
   "source": [
    "# Filtering DataFrames in pandas"
   ]
  },
  {
   "cell_type": "code",
   "execution_count": null,
   "metadata": {},
   "outputs": [],
   "source": [
    "import pandas as pd\n",
    "df=pd.read_csv('employees.csv')\n",
    "df.head()\n"
   ]
  },
  {
   "cell_type": "code",
   "execution_count": null,
   "metadata": {},
   "outputs": [],
   "source": [
    "df.info() #at the end size is there, when we look at the output it is claer that start date and last login time data type is object, but actually they are object iof adte time same as in Senior management has object type but actually it is bool and if correct data type is not there then more memory is required\n"
   ]
  },
  {
   "cell_type": "code",
   "execution_count": null,
   "metadata": {},
   "outputs": [],
   "source": [
    "df['Start Date']\n"
   ]
  },
  {
   "cell_type": "code",
   "execution_count": null,
   "metadata": {},
   "outputs": [],
   "source": [
    "# pd.to_datetime(df['Start Date'])\n",
    "df['Start Date']=pd.to_datetime(df['Start Date'])"
   ]
  },
  {
   "cell_type": "code",
   "execution_count": null,
   "metadata": {},
   "outputs": [],
   "source": [
    "df['Last Login Time'].head()"
   ]
  },
  {
   "cell_type": "code",
   "execution_count": null,
   "metadata": {},
   "outputs": [],
   "source": [
    "# pd.to_datetime(df['Last Login Time'])\n",
    "df['Last Login Time']=pd.to_datetime(df['Last Login Time'])"
   ]
  },
  {
   "cell_type": "code",
   "execution_count": null,
   "metadata": {},
   "outputs": [],
   "source": [
    "df['Senior Management']=df['Senior Management'].astype(bool)\n"
   ]
  },
  {
   "cell_type": "code",
   "execution_count": null,
   "metadata": {},
   "outputs": [],
   "source": [
    "df['Gender']=df['Gender'].astype('category')"
   ]
  },
  {
   "cell_type": "code",
   "execution_count": null,
   "metadata": {},
   "outputs": [],
   "source": [
    "df.info()"
   ]
  },
  {
   "cell_type": "code",
   "execution_count": null,
   "metadata": {},
   "outputs": [],
   "source": [
    "#date time can be converted by attribute parse_date available in read_csv method\n",
    "import pandas as pd\n",
    "df=pd.read_csv('employees.csv', parse_dates=['Start Date', 'Last Login Time'])\n",
    "df['Gender']=df['Gender'].astype('category')\n",
    "df['Senior Management']=df['Senior Management'].astype('bool')\n",
    "df.info()"
   ]
  },
  {
   "cell_type": "markdown",
   "metadata": {},
   "source": [
    "# Filtering a dataframe based on condition"
   ]
  },
  {
   "cell_type": "code",
   "execution_count": null,
   "metadata": {},
   "outputs": [],
   "source": [
    "import pandas as pd\n",
    "df=pd.read_csv('employees.csv', parse_dates=['Start Date', 'Last Login Time'])\n",
    "df['Gender']=df['Gender'].astype('category')\n",
    "df['Senior Management']=df['Senior Management'].astype('bool')\n",
    "df.head()"
   ]
  },
  {
   "cell_type": "code",
   "execution_count": null,
   "metadata": {},
   "outputs": [],
   "source": [
    "#If i want to apply condition on gender that i want only those value in gender series which are of male category\n",
    "# df['Gender']\n",
    "df['mask']=df['Gender']=='Male'\n",
    "# df\n",
    "# df[mask]\n",
    "# df[df['Gender']=='Female'] #This will extract only those value in a column whose value are male"
   ]
  },
  {
   "cell_type": "code",
   "execution_count": null,
   "metadata": {},
   "outputs": [],
   "source": [
    "mask1=df['Team']=='Finance'\n",
    "mask2=df['Gender']=='Male'\n",
    "\n",
    "# df['Filter']=df[mask1 & mask2]\n",
    "df[mask1]\n",
    "df[df['Team']=='Finance']"
   ]
  },
  {
   "cell_type": "code",
   "execution_count": null,
   "metadata": {},
   "outputs": [],
   "source": [
    "mask=df['Senior Management']\n",
    "# df[df['Senior Management']] #As senior management data is already in boolean so it can be done directly'\n",
    "df[mask]"
   ]
  },
  {
   "cell_type": "code",
   "execution_count": null,
   "metadata": {},
   "outputs": [],
   "source": [
    "mask= df['Team'] != 'Marketing'\n",
    "df[mask]\n",
    "# df[df['Team'] != 'Marketing'] #condition for not equal to."
   ]
  },
  {
   "cell_type": "code",
   "execution_count": null,
   "metadata": {},
   "outputs": [],
   "source": [
    "df[df['Salary']>110000]"
   ]
  },
  {
   "cell_type": "markdown",
   "metadata": {},
   "source": [
    "# Filter Data Frame with AND & OR Operators"
   ]
  },
  {
   "cell_type": "code",
   "execution_count": null,
   "metadata": {},
   "outputs": [],
   "source": [
    "import pandas as pd\n",
    "df=pd.read_csv('employees.csv', parse_dates=['Start Date', 'Last Login Time'])\n",
    "df['Gender']=df['Gender'].astype('category')\n",
    "df['Senior Management']=df['Senior Management'].astype('bool')\n",
    "df.head()"
   ]
  },
  {
   "cell_type": "code",
   "execution_count": null,
   "metadata": {},
   "outputs": [],
   "source": [
    "mask1=df['Gender']=='Male'\n",
    "mask2=df['Team']=='Marketing'\n",
    "\n",
    "df[mask1 & mask2]\n",
    "\n",
    "df[mask1 & mask2].head()"
   ]
  },
  {
   "cell_type": "code",
   "execution_count": null,
   "metadata": {},
   "outputs": [],
   "source": [
    "mask3=df['Senior Management']\n",
    "mask4=df['Start Date']< '1990-01-01'\n",
    "\n",
    "df[mask3 | mask4]"
   ]
  },
  {
   "cell_type": "code",
   "execution_count": null,
   "metadata": {},
   "outputs": [],
   "source": [
    "mask5=df['First Name']=='Robert'\n",
    "mask6=df['Team']=='Client Services'\n",
    "mask7=df['Start Date']>'2016-06-01'\n",
    "\n",
    "df[(mask5 & mask6) | mask7]"
   ]
  },
  {
   "cell_type": "markdown",
   "metadata": {},
   "source": [
    "# isin() method in pandas"
   ]
  },
  {
   "cell_type": "code",
   "execution_count": null,
   "metadata": {},
   "outputs": [],
   "source": [
    "import pandas as pd\n",
    "df=pd.read_csv('employees.csv', parse_dates=['Start Date', 'Last Login Time'])\n",
    "df['Gender']=df['Gender'].astype('category')\n",
    "df['Senior Management']=df['Senior Management'].astype('bool')\n",
    "df.head()"
   ]
  },
  {
   "cell_type": "code",
   "execution_count": null,
   "metadata": {},
   "outputs": [],
   "source": [
    "mask1=df['Team']=='Legal'\n",
    "mask2=df['Team']=='Sales'\n",
    "mask3=df['Team']=='Product'\n",
    "\n",
    "df[mask1 | mask2 | mask3].head()"
   ]
  },
  {
   "cell_type": "code",
   "execution_count": null,
   "metadata": {},
   "outputs": [],
   "source": [
    "#As in above case it is claer that it requires same code for many times so it can be deal with the help of isin() method as in this case we are able to pass multiple arguments\n",
    "\n",
    "df['Team'].isin(['Legal', 'Sales', 'Product'])"
   ]
  },
  {
   "cell_type": "code",
   "execution_count": null,
   "metadata": {},
   "outputs": [],
   "source": [
    "mask=df['Team'].isin(['Legal', 'Sales', 'Product'])\n",
    "df[mask] #It is claer that we does not required multiple lines of asme type"
   ]
  },
  {
   "cell_type": "markdown",
   "metadata": {},
   "source": [
    "# isnull(), notnull() ,between() and duplicate() method in panda"
   ]
  },
  {
   "cell_type": "code",
   "execution_count": null,
   "metadata": {},
   "outputs": [],
   "source": [
    "import pandas as pd\n",
    "df=pd.read_csv('employees.csv', parse_dates=['Start Date', 'Last Login Time'])\n",
    "df['Gender']=df['Gender'].astype('category')\n",
    "df['Senior Management']=df['Senior Management'].astype('bool')\n",
    "df.head()"
   ]
  },
  {
   "cell_type": "code",
   "execution_count": null,
   "metadata": {},
   "outputs": [],
   "source": [
    "#isnull() if you want to extract null values\n",
    "mask=df['Team'].isnull()\n",
    "df[mask]"
   ]
  },
  {
   "cell_type": "code",
   "execution_count": null,
   "metadata": {},
   "outputs": [],
   "source": [
    "mask1=df['Team'].isnull()\n",
    "mask2=df['Gender'].isnull()\n",
    "\n",
    "\n",
    "df [ mask1 & mask2]\n",
    "# df[df['Team'].notnull()]"
   ]
  },
  {
   "cell_type": "code",
   "execution_count": null,
   "metadata": {},
   "outputs": [],
   "source": [
    "#between()\n",
    "# df['Salary'].between(60000, 70000)\n",
    "df[df['Salary'].between(60000, 70000)]"
   ]
  },
  {
   "cell_type": "code",
   "execution_count": null,
   "metadata": {},
   "outputs": [],
   "source": [
    "df['Bonus %'].between(2.0, 5.0)\n",
    "df[df['Bonus %'].between(2.0, 5.0)]"
   ]
  },
  {
   "cell_type": "code",
   "execution_count": null,
   "metadata": {},
   "outputs": [],
   "source": [
    "df['Start Date'].between(\"1991-01-01\", \"1992-01-01\")\n",
    "df[df['Start Date'].between(\"1991-01-01\", \"1992-01-01\")]"
   ]
  },
  {
   "cell_type": "code",
   "execution_count": null,
   "metadata": {},
   "outputs": [],
   "source": [
    "#duplicate() method\n",
    "df.sort_values('First Name', inplace=True)\n",
    "# df['First Name']=df.sort_values('First Name')\n",
    "df['First Name']"
   ]
  },
  {
   "cell_type": "code",
   "execution_count": null,
   "metadata": {},
   "outputs": [],
   "source": [
    "df['First Name'].duplicated(keep='last') #it says that first value is not duplicate as in parameter it has keep=first you may change it to last also"
   ]
  },
  {
   "cell_type": "code",
   "execution_count": null,
   "metadata": {},
   "outputs": [],
   "source": [
    " df[df['First Name'].duplicated(keep=False)].head()"
   ]
  },
  {
   "cell_type": "code",
   "execution_count": null,
   "metadata": {},
   "outputs": [],
   "source": [
    "mask = ~ df[df['First Name'].duplicated(keep=False)].head() #reverse operation of duplicate so ir gives unique value from data sets"
   ]
  },
  {
   "cell_type": "code",
   "execution_count": null,
   "metadata": {},
   "outputs": [],
   "source": [
    "#drop duplicate method\\\n",
    "len(df)"
   ]
  },
  {
   "cell_type": "code",
   "execution_count": null,
   "metadata": {},
   "outputs": [],
   "source": [
    "len(df.drop_duplicates())"
   ]
  },
  {
   "cell_type": "code",
   "execution_count": null,
   "metadata": {},
   "outputs": [],
   "source": [
    "df.drop_duplicates(subset=['First Name'], keep='first')\n",
    "len( df.drop_duplicates(subset=['First Name'], keep='first'))"
   ]
  },
  {
   "cell_type": "code",
   "execution_count": null,
   "metadata": {},
   "outputs": [],
   "source": [
    "df.drop_duplicates(subset=['First Name', 'Team'], keep='last').head()"
   ]
  },
  {
   "cell_type": "markdown",
   "metadata": {},
   "source": [
    "# Retrieve row values using loc() method in pandas"
   ]
  },
  {
   "cell_type": "code",
   "execution_count": null,
   "metadata": {},
   "outputs": [],
   "source": [
    "import pandas as pd\n",
    "bond=pd.read_csv('jamesbond.csv', index_col='Film')\n",
    "bond.sort_index(inplace=True)\n",
    "bond.head()"
   ]
  },
  {
   "cell_type": "code",
   "execution_count": null,
   "metadata": {},
   "outputs": [],
   "source": [
    "bond.loc['Casino Royale']"
   ]
  },
  {
   "cell_type": "code",
   "execution_count": null,
   "metadata": {},
   "outputs": [],
   "source": [
    "bond.loc['GoldenEye']"
   ]
  },
  {
   "cell_type": "code",
   "execution_count": null,
   "metadata": {},
   "outputs": [],
   "source": [
    "bond.loc['Casino Royale']"
   ]
  },
  {
   "cell_type": "code",
   "execution_count": null,
   "metadata": {},
   "outputs": [],
   "source": [
    "bond.loc['Diamonds are Forever': 'Moonracker']\n",
    "bond.loc['GoldenEye':]\n",
    "bond.loc[: \"On Her Majesty's Secret Services\"]"
   ]
  },
  {
   "cell_type": "code",
   "execution_count": null,
   "metadata": {},
   "outputs": [],
   "source": [
    "bond.loc[[\"For Your Eyes Only\", \"Live and Let Die\"]]"
   ]
  },
  {
   "cell_type": "markdown",
   "metadata": {},
   "source": [
    "#  Retrieve row values using iloc() method in pandas"
   ]
  },
  {
   "cell_type": "code",
   "execution_count": null,
   "metadata": {},
   "outputs": [],
   "source": [
    "import pandas as pd\n",
    "bond=pd.read_csv('jamesbond.csv')\n",
    "bond.head()"
   ]
  },
  {
   "cell_type": "code",
   "execution_count": null,
   "metadata": {},
   "outputs": [],
   "source": [
    "# bond.loc[15]\n",
    "bond.iloc[15]"
   ]
  },
  {
   "cell_type": "code",
   "execution_count": null,
   "metadata": {},
   "outputs": [],
   "source": [
    "bond.iloc[[15,20]]\n",
    "bond.iloc[:4]\n",
    "bond.iloc[4:8]\n",
    "bond.iloc[0:20:2]"
   ]
  },
  {
   "cell_type": "code",
   "execution_count": null,
   "metadata": {},
   "outputs": [],
   "source": [
    "bond.ix[0] #It shows that ix will be taken data as loc and iloc both"
   ]
  },
  {
   "cell_type": "markdown",
   "metadata": {},
   "source": [
    "# Second argument of loc and ix methods"
   ]
  },
  {
   "cell_type": "code",
   "execution_count": null,
   "metadata": {},
   "outputs": [],
   "source": [
    "import pandas as pd\n",
    "bond=pd.read_csv('jamesbond.csv', index_col='Film')\n",
    "bond.sort_index(inplace=True)\n",
    "bond.head()"
   ]
  },
  {
   "cell_type": "code",
   "execution_count": null,
   "metadata": {},
   "outputs": [],
   "source": [
    "bond.loc['Moonraker', 'Actor']\n",
    "# bond.loc['Moonraker', 'Director']\n",
    "# bond.loc['Moonraker', 'Actor':'Budget']\n",
    "bond.loc['Moonraker', ['Year', 'Director', 'Budget']]\n",
    "# #Similarly we can use it with iloc and ix"
   ]
  },
  {
   "cell_type": "code",
   "execution_count": null,
   "metadata": {},
   "outputs": [],
   "source": [
    "import pandas as pd\n",
    "bond=pd.read_csv('jamesbond.csv', index_col='Film')\n",
    "bond.sort_index(inplace=True)\n",
    "bond.head()"
   ]
  },
  {
   "cell_type": "code",
   "execution_count": null,
   "metadata": {},
   "outputs": [],
   "source": [
    "mask=bond['Actor']=='Sean Connery'\n",
    "bond[mask]"
   ]
  },
  {
   "cell_type": "code",
   "execution_count": null,
   "metadata": {},
   "outputs": [],
   "source": [
    "bond[mask]['Actor']='Sir Sean Connery'"
   ]
  },
  {
   "cell_type": "code",
   "execution_count": null,
   "metadata": {},
   "outputs": [],
   "source": [
    "df2=bond[mask]\n",
    "df2['Actor']='Sir Sean Connery'\n",
    "df2"
   ]
  },
  {
   "cell_type": "code",
   "execution_count": null,
   "metadata": {},
   "outputs": [],
   "source": [
    "bond"
   ]
  },
  {
   "cell_type": "code",
   "execution_count": null,
   "metadata": {},
   "outputs": [],
   "source": [
    "bond.ix[mask]\n",
    "bond.ix[mask,'Actor']='Sir Sean Connery'\n",
    "bond"
   ]
  },
  {
   "cell_type": "markdown",
   "metadata": {},
   "source": [
    "# Rename Index Labels or Columns in pandas"
   ]
  },
  {
   "cell_type": "code",
   "execution_count": null,
   "metadata": {},
   "outputs": [],
   "source": [
    "import pandas as pd\n",
    "bond=pd.read_csv('jamesbond.csv', index_col='Film')\n",
    "bond.sort_index(inplace=True)\n",
    "bond.head()"
   ]
  },
  {
   "cell_type": "code",
   "execution_count": null,
   "metadata": {},
   "outputs": [],
   "source": [
    "bond.rename(columns={'Year':'Release date', 'Box Office' : 'Revenue'}, inplace=True)\n",
    "bond.head()"
   ]
  },
  {
   "cell_type": "code",
   "execution_count": null,
   "metadata": {},
   "outputs": [],
   "source": [
    "bond.rename(index={'Dr. No':'Doctor No', 'GoldenEye':'Golden Eye','The World Is Not Enough': 'Best Bond Movie'})"
   ]
  },
  {
   "cell_type": "markdown",
   "metadata": {},
   "source": [
    "# Query Methods in Pandas"
   ]
  },
  {
   "cell_type": "code",
   "execution_count": null,
   "metadata": {},
   "outputs": [],
   "source": [
    "#Query methods only applys when all the column are strings and no space in between columns name\n",
    "\n",
    "import pandas as pd\n",
    "bond=pd.read_csv('jamesbond.csv', index_col='Film')\n",
    "bond.sort_index(inplace=True)\n",
    "bond.head()"
   ]
  },
  {
   "cell_type": "code",
   "execution_count": null,
   "metadata": {},
   "outputs": [],
   "source": [
    "bond.columns=[column_names.replace(\" \",  \"_\") for column_names in bond.columns]\n",
    "bond.head()"
   ]
  },
  {
   "cell_type": "code",
   "execution_count": null,
   "metadata": {},
   "outputs": [],
   "source": [
    "bond.query('Actor==\"Sean Connery\"')"
   ]
  },
  {
   "cell_type": "code",
   "execution_count": null,
   "metadata": {},
   "outputs": [],
   "source": [
    "bond.query(\"Director=='Terence Young'\")"
   ]
  },
  {
   "cell_type": "code",
   "execution_count": null,
   "metadata": {},
   "outputs": [],
   "source": [
    "bond.query(\"Actor != 'Roger Moore'\")"
   ]
  },
  {
   "cell_type": "code",
   "execution_count": null,
   "metadata": {},
   "outputs": [],
   "source": [
    "bond.query(\"Box_Office>600\")"
   ]
  },
  {
   "cell_type": "code",
   "execution_count": null,
   "metadata": {},
   "outputs": [],
   "source": [
    "bond.query(\"Actor=='Roger Moore' and Director=='John Glen'\")"
   ]
  },
  {
   "cell_type": "code",
   "execution_count": null,
   "metadata": {},
   "outputs": [],
   "source": []
  }
 ],
 "metadata": {
  "kernelspec": {
   "display_name": "Python 3 (ipykernel)",
   "language": "python",
   "name": "python3"
  },
  "language_info": {
   "codemirror_mode": {
    "name": "ipython",
    "version": 3
   },
   "file_extension": ".py",
   "mimetype": "text/x-python",
   "name": "python",
   "nbconvert_exporter": "python",
   "pygments_lexer": "ipython3",
   "version": "3.10.5"
  }
 },
 "nbformat": 4,
 "nbformat_minor": 2
}
